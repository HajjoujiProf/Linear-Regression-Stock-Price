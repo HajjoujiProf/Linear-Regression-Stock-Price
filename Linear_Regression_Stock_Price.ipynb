{
  "nbformat": 4,
  "nbformat_minor": 0,
  "metadata": {
    "colab": {
      "provenance": [],
      "authorship_tag": "ABX9TyPgXLbQCJ6dpU5tmWpuFFu/",
      "include_colab_link": true
    },
    "kernelspec": {
      "name": "python3",
      "display_name": "Python 3"
    },
    "language_info": {
      "name": "python"
    }
  },
  "cells": [
    {
      "cell_type": "markdown",
      "metadata": {
        "id": "view-in-github",
        "colab_type": "text"
      },
      "source": [
        "<a href=\"https://colab.research.google.com/github/HajjoujiProf/Linear-Regression-Stock-Price/blob/main/Linear_Regression_Stock_Price.ipynb\" target=\"_parent\"><img src=\"https://colab.research.google.com/assets/colab-badge.svg\" alt=\"Open In Colab\"/></a>"
      ]
    },
    {
      "cell_type": "code",
      "execution_count": null,
      "metadata": {
        "colab": {
          "base_uri": "https://localhost:8080/"
        },
        "id": "laaLExn2KD2d",
        "outputId": "528fe7c0-1ef9-493d-878e-a8fd860c4b12"
      },
      "outputs": [
        {
          "output_type": "stream",
          "name": "stdout",
          "text": [
            "[[1]\n",
            " [2]\n",
            " [3]\n",
            " [4]\n",
            " [5]]\n",
            "[ 5  7  9 11 12]\n"
          ]
        }
      ],
      "source": [
        "import numpy as np\n",
        "from sklearn.linear_model import LinearRegression\n",
        "\n",
        "\n",
        "x = np.array([1, 2, 3, 4, 5]).reshape((-1, 1))\n",
        "y = np.array([5, 7, 9, 11, 12])\n",
        "\n",
        "print(x)\n",
        "print(y)"
      ]
    },
    {
      "cell_type": "code",
      "source": [
        "# a) Build a regression equation for stock price Y over time X: Y=aX+b+e."
      ],
      "metadata": {
        "id": "3gYQajeHPsWQ"
      },
      "execution_count": null,
      "outputs": []
    },
    {
      "cell_type": "code",
      "source": [
        "model = LinearRegression()\n",
        "model.fit(x, y)\n",
        "model = LinearRegression().fit(x, y)\n",
        "\n"
      ],
      "metadata": {
        "id": "pU7ICkERKrfJ"
      },
      "execution_count": null,
      "outputs": []
    },
    {
      "cell_type": "code",
      "source": [
        "y_pred = model.intercept_ + model.coef_ * x\n",
        "print('predicted response:', y_pred, sep='\\n')"
      ],
      "metadata": {
        "colab": {
          "base_uri": "https://localhost:8080/"
        },
        "id": "xLeGjUoOPIUu",
        "outputId": "b93babf8-e9c8-4b93-918d-6525a4e263b5"
      },
      "execution_count": null,
      "outputs": [
        {
          "output_type": "stream",
          "name": "stdout",
          "text": [
            "predicted response:\n",
            "[[ 5.2]\n",
            " [ 7. ]\n",
            " [ 8.8]\n",
            " [10.6]\n",
            " [12.4]]\n"
          ]
        }
      ]
    },
    {
      "cell_type": "code",
      "source": [
        "# b) Calculate the coefficient of determination"
      ],
      "metadata": {
        "id": "oz-3nraEP8mO"
      },
      "execution_count": null,
      "outputs": []
    },
    {
      "cell_type": "code",
      "source": [
        "r_sq = model.score(x, y)\n",
        "print('coefficient of determination is :', r_sq)"
      ],
      "metadata": {
        "colab": {
          "base_uri": "https://localhost:8080/"
        },
        "id": "ZrjmYs1FM0Pc",
        "outputId": "fedb0fe6-3454-49f3-8fc1-4ea612eec143"
      },
      "execution_count": null,
      "outputs": [
        {
          "output_type": "stream",
          "name": "stdout",
          "text": [
            "coefficient of determination is : 0.9878048780487805\n"
          ]
        }
      ]
    },
    {
      "cell_type": "code",
      "source": [
        "# c) Give a forecast of the stock price at time X=6"
      ],
      "metadata": {
        "id": "VCXGPzkhN0f9"
      },
      "execution_count": null,
      "outputs": []
    },
    {
      "cell_type": "code",
      "source": [
        "new_x = np.array([1, 2, 3, 4, 5,6]).reshape((-1, 1))\n",
        "new_y = np.array([5, 7, 9, 11, 12,14])\n",
        "\n",
        "print(new_x)\n",
        "print(new_y)"
      ],
      "metadata": {
        "colab": {
          "base_uri": "https://localhost:8080/"
        },
        "id": "QCTM59bbV7vE",
        "outputId": "2e06f7f4-2b05-4c80-c797-1e675288d876"
      },
      "execution_count": null,
      "outputs": [
        {
          "output_type": "stream",
          "name": "stdout",
          "text": [
            "[[1]\n",
            " [2]\n",
            " [3]\n",
            " [4]\n",
            " [5]\n",
            " [6]]\n",
            "[ 5  7  9 11 12 14]\n"
          ]
        }
      ]
    },
    {
      "cell_type": "code",
      "source": [
        "model = LinearRegression()\n",
        "model.fit(new_x, new_y)\n",
        "model = LinearRegression().fit(new_x, new_y)"
      ],
      "metadata": {
        "id": "VWHq7ae0WQXY"
      },
      "execution_count": null,
      "outputs": []
    },
    {
      "cell_type": "code",
      "source": [
        "new_y_pred = model.intercept_ + model.coef_ * x\n",
        "print('predicted response of Forecast :', new_y_pred, sep='\\n')"
      ],
      "metadata": {
        "colab": {
          "base_uri": "https://localhost:8080/"
        },
        "id": "_SnqRN4gWe9H",
        "outputId": "5ad1acfb-7877-47c6-9f21-37840ffea1c7"
      },
      "execution_count": null,
      "outputs": [
        {
          "output_type": "stream",
          "name": "stdout",
          "text": [
            "predicted response:\n",
            "[[ 5.23809524]\n",
            " [ 7.00952381]\n",
            " [ 8.78095238]\n",
            " [10.55238095]\n",
            " [12.32380952]\n",
            " [14.0952381 ]]\n"
          ]
        }
      ]
    },
    {
      "cell_type": "code",
      "source": [
        "import numpy as np\n",
        ">>> from sklearn.linear_model import LinearRegression\n",
        "\n",
        ">>> x = [\n",
        "...   [0, 1], [5, 1], [15, 2], [25, 5], [35, 11], [45, 15], [55, 34], [60, 35]\n",
        "... ]\n",
        ">>> y = [4, 5, 20, 14, 32, 22, 38, 43]\n",
        ">>> x, y = np.array(x), np.array(y)"
      ],
      "metadata": {
        "id": "dDfeei9CUu-y"
      },
      "execution_count": null,
      "outputs": []
    }
  ]
}